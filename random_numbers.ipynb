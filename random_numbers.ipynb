{
 "cells": [
  {
   "cell_type": "markdown",
   "id": "4617cdd8",
   "metadata": {},
   "source": [
    "# Module 6 WeatherPy with Python APIs"
   ]
  },
  {
   "cell_type": "markdown",
   "id": "6ecafab4",
   "metadata": {},
   "source": [
    "## Generate Random Lat and Longs (Module 6.1.4)"
   ]
  },
  {
   "cell_type": "code",
   "execution_count": 1,
   "id": "146622da",
   "metadata": {},
   "outputs": [],
   "source": [
    "import random"
   ]
  },
  {
   "cell_type": "code",
   "execution_count": 2,
   "id": "611f4834",
   "metadata": {},
   "outputs": [
    {
     "data": {
      "text/plain": [
       "0.1451962608248173"
      ]
     },
     "execution_count": 2,
     "metadata": {},
     "output_type": "execute_result"
    }
   ],
   "source": [
    "random.random()"
   ]
  },
  {
   "cell_type": "code",
   "execution_count": 7,
   "id": "f45b147e",
   "metadata": {},
   "outputs": [
    {
     "data": {
      "text/plain": [
       "-33"
      ]
     },
     "execution_count": 7,
     "metadata": {},
     "output_type": "execute_result"
    }
   ],
   "source": [
    "random.randint(-90, 90)"
   ]
  },
  {
   "cell_type": "code",
   "execution_count": 21,
   "id": "563acdea",
   "metadata": {},
   "outputs": [
    {
     "data": {
      "text/plain": [
       "-89"
      ]
     },
     "execution_count": 21,
     "metadata": {},
     "output_type": "execute_result"
    }
   ],
   "source": [
    "random.randrange(-90, 90, 1)"
   ]
  },
  {
   "cell_type": "code",
   "execution_count": 6,
   "id": "ff74848f",
   "metadata": {},
   "outputs": [
    {
     "data": {
      "text/plain": [
       "-9.091311405721099"
      ]
     },
     "execution_count": 6,
     "metadata": {},
     "output_type": "execute_result"
    }
   ],
   "source": [
    "random.uniform(-10, 10)"
   ]
  },
  {
   "cell_type": "code",
   "execution_count": 15,
   "id": "f3e1f2f7",
   "metadata": {},
   "outputs": [
    {
     "data": {
      "text/plain": [
       "-50.37951801141716"
      ]
     },
     "execution_count": 15,
     "metadata": {},
     "output_type": "execute_result"
    }
   ],
   "source": [
    "random_number = random.randint(-90, 89) + random.random()\n",
    "random_number"
   ]
  },
  {
   "cell_type": "code",
   "execution_count": 18,
   "id": "861eaa45",
   "metadata": {},
   "outputs": [],
   "source": [
    "# Create sample list of 10 random latitudes\n",
    "\n",
    "x=1\n",
    "latitudes = []\n",
    "while x < 11:\n",
    "    random_lat = random.randint(-90, 89) + random.random()\n",
    "    latitudes.append(random_lat)\n",
    "    x += 1"
   ]
  },
  {
   "cell_type": "code",
   "execution_count": 20,
   "id": "e073b078",
   "metadata": {},
   "outputs": [
    {
     "data": {
      "text/plain": [
       "[-71.33227221455354,\n",
       " 21.600556761792035,\n",
       " 12.932262180343878,\n",
       " 48.86845387618674,\n",
       " 80.2679717738139,\n",
       " 20.298936717342638,\n",
       " 1.9288107663278855,\n",
       " 43.93237195319306,\n",
       " 86.37151594431855,\n",
       " 42.09350267453414]"
      ]
     },
     "execution_count": 20,
     "metadata": {},
     "output_type": "execute_result"
    }
   ],
   "source": [
    "latitudes"
   ]
  },
  {
   "cell_type": "code",
   "execution_count": 23,
   "id": "56e3412d",
   "metadata": {},
   "outputs": [],
   "source": [
    "# Import NumPy\n",
    "import numpy as np"
   ]
  },
  {
   "cell_type": "code",
   "execution_count": 25,
   "id": "2dc44e0b",
   "metadata": {},
   "outputs": [
    {
     "data": {
      "text/plain": [
       "array([-34.82790109, -45.3602491 , -39.66595407,  -4.11890424,\n",
       "       -73.28436825,  86.92843962,  57.46304666, -84.56585671,\n",
       "       -80.13944007, -54.01226616, -32.32409455, -18.71397109,\n",
       "        65.27760326,   4.93650604, -65.38594887,  22.51798469,\n",
       "        38.47066868,  86.09049184, -10.36934056,  37.56461535,\n",
       "        56.85970267, -81.08632307, -81.87068772, -38.8984424 ,\n",
       "        54.02437252,  81.84193927, -55.00574799,  -6.24656839,\n",
       "        78.7620234 , -25.21350563,  -3.10932737,  11.0516701 ,\n",
       "        23.44153105,  66.75607194,  11.72137455,  21.18345819,\n",
       "         8.32420011,  21.08089196, -48.22445355, -11.99472547,\n",
       "       -31.10947939, -88.75027249, -29.65277538,  48.05317453,\n",
       "       -76.67338774,  -1.88706321,  52.58524018,  72.63588868,\n",
       "       -25.24687388,  27.40342562])"
      ]
     },
     "execution_count": 25,
     "metadata": {},
     "output_type": "execute_result"
    }
   ],
   "source": [
    "np.random.uniform(-90.000, 90.000, size=50)"
   ]
  },
  {
   "cell_type": "code",
   "execution_count": 26,
   "id": "fb421c12",
   "metadata": {},
   "outputs": [],
   "source": [
    "# testing speed of initial sample code vs NumPy generator\n",
    "import timeit"
   ]
  },
  {
   "cell_type": "code",
   "execution_count": 27,
   "id": "13919786",
   "metadata": {},
   "outputs": [
    {
     "name": "stdout",
     "output_type": "stream",
     "text": [
      "9.49 µs ± 156 ns per loop (mean ± std. dev. of 7 runs, 100000 loops each)\n"
     ]
    }
   ],
   "source": [
    "# NumPy version\n",
    "%timeit np.random.uniform(-90.000, 90.000, size=1500)"
   ]
  },
  {
   "cell_type": "code",
   "execution_count": 28,
   "id": "364c8acd",
   "metadata": {},
   "outputs": [
    {
     "name": "stdout",
     "output_type": "stream",
     "text": [
      "1.28 ms ± 77.9 µs per loop (mean ± std. dev. of 7 runs, 1000 loops each)\n"
     ]
    }
   ],
   "source": [
    "# random version\n",
    "def latitudes(size):\n",
    "    latitudes = []\n",
    "    x = 0\n",
    "    while x < (size):\n",
    "        random_lat = random.randint(-90, 90) + random.random()\n",
    "        latitudes.append(random_lat)\n",
    "        x += 1\n",
    "    return latitudes\n",
    "# Call the function with 1500.\n",
    "%timeit latitudes(1500)"
   ]
  },
  {
   "cell_type": "code",
   "execution_count": null,
   "id": "3b46db2e",
   "metadata": {},
   "outputs": [],
   "source": []
  }
 ],
 "metadata": {
  "kernelspec": {
   "display_name": "pythondata",
   "language": "python",
   "name": "pythondata"
  },
  "language_info": {
   "codemirror_mode": {
    "name": "ipython",
    "version": 3
   },
   "file_extension": ".py",
   "mimetype": "text/x-python",
   "name": "python",
   "nbconvert_exporter": "python",
   "pygments_lexer": "ipython3",
   "version": "3.7.10"
  }
 },
 "nbformat": 4,
 "nbformat_minor": 5
}
